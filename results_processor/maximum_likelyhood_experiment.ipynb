{
 "cells": [
  {
   "cell_type": "code",
   "execution_count": 1,
   "metadata": {
    "collapsed": true
   },
   "outputs": [],
   "source": [
    "import numpy as np\n",
    "import pandas as pd\n",
    "from matplotlib import pyplot as plt\n",
    "import seaborn as sns\n",
    "from statsmodels import api\n",
    "from scipy import stats\n",
    "from scipy.optimize import minimize"
   ]
  },
  {
   "cell_type": "code",
   "execution_count": 2,
   "outputs": [
    {
     "data": {
      "text/plain": "           x          y\n0 -10.000000 -23.976585\n1  -9.595960 -21.264735\n2  -9.191919  -4.415016\n3  -8.787879  -8.622656\n4  -8.383838 -12.839696",
      "text/html": "<div>\n<style scoped>\n    .dataframe tbody tr th:only-of-type {\n        vertical-align: middle;\n    }\n\n    .dataframe tbody tr th {\n        vertical-align: top;\n    }\n\n    .dataframe thead th {\n        text-align: right;\n    }\n</style>\n<table border=\"1\" class=\"dataframe\">\n  <thead>\n    <tr style=\"text-align: right;\">\n      <th></th>\n      <th>x</th>\n      <th>y</th>\n    </tr>\n  </thead>\n  <tbody>\n    <tr>\n      <th>0</th>\n      <td>-10.000000</td>\n      <td>-23.976585</td>\n    </tr>\n    <tr>\n      <th>1</th>\n      <td>-9.595960</td>\n      <td>-21.264735</td>\n    </tr>\n    <tr>\n      <th>2</th>\n      <td>-9.191919</td>\n      <td>-4.415016</td>\n    </tr>\n    <tr>\n      <th>3</th>\n      <td>-8.787879</td>\n      <td>-8.622656</td>\n    </tr>\n    <tr>\n      <th>4</th>\n      <td>-8.383838</td>\n      <td>-12.839696</td>\n    </tr>\n  </tbody>\n</table>\n</div>"
     },
     "execution_count": 2,
     "metadata": {},
     "output_type": "execute_result"
    }
   ],
   "source": [
    "# generate an independent variable\n",
    "x = np.linspace(-10, 30, 100)\n",
    "# generate a normally distributed residual\n",
    "e = np.random.normal(10, 5, 100)\n",
    "# generate ground truth\n",
    "y = 10 + 4*x + e\n",
    "df = pd.DataFrame({'x':x, 'y':y})\n",
    "df.head()"
   ],
   "metadata": {
    "collapsed": false,
    "pycharm": {
     "name": "#%%\n"
    }
   }
  },
  {
   "cell_type": "code",
   "execution_count": 3,
   "outputs": [
    {
     "data": {
      "text/plain": "<Figure size 432x288 with 1 Axes>",
      "image/png": "[encoded data removed]"
     },
     "metadata": {
      "needs_background": "light"
     },
     "output_type": "display_data"
    }
   ],
   "source": [
    "sns.regplot(x='x', y='y', data = df)\n",
    "plt.show()"
   ],
   "metadata": {
    "collapsed": false,
    "pycharm": {
     "name": "#%%\n"
    }
   }
  },
  {
   "cell_type": "code",
   "execution_count": 4,
   "outputs": [
    {
     "data": {
      "text/plain": "<class 'statsmodels.iolib.summary.Summary'>\n\"\"\"\n                            OLS Regression Results                            \n==============================================================================\nDep. Variable:                      y   R-squared:                       0.991\nModel:                            OLS   Adj. R-squared:                  0.991\nMethod:                 Least Squares   F-statistic:                 1.074e+04\nDate:                Sat, 21 May 2022   Prob (F-statistic):          5.92e-102\nTime:                        11:14:45   Log-Likelihood:                -290.41\nNo. Observations:                 100   AIC:                             584.8\nDf Residuals:                      98   BIC:                             590.0\nDf Model:                           1                                         \nCovariance Type:            nonrobust                                         \n==============================================================================\n                 coef    std err          t      P>|t|      [0.025      0.975]\n------------------------------------------------------------------------------\nconst         21.2211      0.588     36.117      0.000      20.055      22.387\nx              3.9628      0.038    103.614      0.000       3.887       4.039\n==============================================================================\nOmnibus:                        1.360   Durbin-Watson:                   1.746\nProb(Omnibus):                  0.507   Jarque-Bera (JB):                1.370\nSkew:                          -0.196   Prob(JB):                        0.504\nKurtosis:                       2.581   Cond. No.                         20.3\n==============================================================================\n\nNotes:\n[1] Standard Errors assume that the covariance matrix of the errors is correctly specified.\n\"\"\"",
      "text/html": "<table class=\"simpletable\">\n<caption>OLS Regression Results</caption>\n<tr>\n  <th>Dep. Variable:</th>            <td>y</td>        <th>  R-squared:         </th> <td>   0.991</td> \n</tr>\n<tr>\n  <th>Model:</th>                   <td>OLS</td>       <th>  Adj. R-squared:    </th> <td>   0.991</td> \n</tr>\n<tr>\n  <th>Method:</th>             <td>Least Squares</td>  <th>  F-statistic:       </th> <td>1.074e+04</td>\n</tr>\n<tr>\n  <th>Date:</th>             <td>Sat, 21 May 2022</td> <th>  Prob (F-statistic):</th> <td>5.92e-102</td>\n</tr>\n<tr>\n  <th>Time:</th>                 <td>11:14:45</td>     <th>  Log-Likelihood:    </th> <td> -290.41</td> \n</tr>\n<tr>\n  <th>No. Observations:</th>      <td>   100</td>      <th>  AIC:               </th> <td>   584.8</td> \n</tr>\n<tr>\n  <th>Df Residuals:</th>          <td>    98</td>      <th>  BIC:               </th> <td>   590.0</td> \n</tr>\n<tr>\n  <th>Df Model:</th>              <td>     1</td>      <th>                     </th>     <td> </td>    \n</tr>\n<tr>\n  <th>Covariance Type:</th>      <td>nonrobust</td>    <th>                     </th>     <td> </td>    \n</tr>\n</table>\n<table class=\"simpletable\">\n<tr>\n    <td></td>       <th>coef</th>     <th>std err</th>      <th>t</th>      <th>P>|t|</th>  <th>[0.025</th>    <th>0.975]</th>  \n</tr>\n<tr>\n  <th>const</th> <td>   21.2211</td> <td>    0.588</td> <td>   36.117</td> <td> 0.000</td> <td>   20.055</td> <td>   22.387</td>\n</tr>\n<tr>\n  <th>x</th>     <td>    3.9628</td> <td>    0.038</td> <td>  103.614</td> <td> 0.000</td> <td>    3.887</td> <td>    4.039</td>\n</tr>\n</table>\n<table class=\"simpletable\">\n<tr>\n  <th>Omnibus:</th>       <td> 1.360</td> <th>  Durbin-Watson:     </th> <td>   1.746</td>\n</tr>\n<tr>\n  <th>Prob(Omnibus):</th> <td> 0.507</td> <th>  Jarque-Bera (JB):  </th> <td>   1.370</td>\n</tr>\n<tr>\n  <th>Skew:</th>          <td>-0.196</td> <th>  Prob(JB):          </th> <td>   0.504</td>\n</tr>\n<tr>\n  <th>Kurtosis:</th>      <td> 2.581</td> <th>  Cond. No.          </th> <td>    20.3</td>\n</tr>\n</table><br/><br/>Notes:<br/>[1] Standard Errors assume that the covariance matrix of the errors is correctly specified."
     },
     "execution_count": 4,
     "metadata": {},
     "output_type": "execute_result"
    }
   ],
   "source": [
    "features = api.add_constant(df.x)\n",
    "model = api.OLS(y, features).fit()\n",
    "model.summary()"
   ],
   "metadata": {
    "collapsed": false,
    "pycharm": {
     "name": "#%%\n"
    }
   }
  },
  {
   "cell_type": "code",
   "execution_count": 5,
   "outputs": [
    {
     "data": {
      "text/plain": "4.41576371155821"
     },
     "execution_count": 5,
     "metadata": {},
     "output_type": "execute_result"
    }
   ],
   "source": [
    "res = model.resid\n",
    "standard_dev = np.std(res)\n",
    "standard_dev"
   ],
   "metadata": {
    "collapsed": false,
    "pycharm": {
     "name": "#%%\n"
    }
   }
  },
  {
   "cell_type": "code",
   "execution_count": null,
   "outputs": [],
   "source": [],
   "metadata": {
    "collapsed": false,
    "pycharm": {
     "name": "#%%\n"
    }
   }
  }
 ],
 "metadata": {
  "kernelspec": {
   "display_name": "Python 3",
   "language": "python",
   "name": "python3"
  },
  "language_info": {
   "codemirror_mode": {
    "name": "ipython",
    "version": 2
   },
   "file_extension": ".py",
   "mimetype": "text/x-python",
   "name": "python",
   "nbconvert_exporter": "python",
   "pygments_lexer": "ipython2",
   "version": "2.7.6"
  }
 },
 "nbformat": 4,
 "nbformat_minor": 0
}